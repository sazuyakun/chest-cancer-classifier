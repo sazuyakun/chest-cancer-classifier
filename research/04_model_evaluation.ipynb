{
 "cells": [
  {
   "cell_type": "code",
   "execution_count": 1,
   "id": "809c56ea",
   "metadata": {},
   "outputs": [],
   "source": [
    "import os\n",
    "os.chdir(\"../\")"
   ]
  },
  {
   "cell_type": "code",
   "execution_count": 2,
   "id": "cebf9f26",
   "metadata": {},
   "outputs": [],
   "source": [
    "from pprint import pprint"
   ]
  },
  {
   "cell_type": "code",
   "execution_count": 3,
   "id": "a0852631",
   "metadata": {},
   "outputs": [],
   "source": [
    "import torch\n",
    "\n",
    "model = torch.load(\"artifacts/training/model.pt\", map_location=\"mps\", weights_only=False)"
   ]
  },
  {
   "cell_type": "code",
   "execution_count": 4,
   "id": "ed5ae591",
   "metadata": {},
   "outputs": [],
   "source": [
    "# Entity\n",
    "from dataclasses import dataclass\n",
    "from pathlib import Path\n",
    "\n",
    "@dataclass(frozen=True)\n",
    "class EvaluationConfig:\n",
    "    path_of_model: Path\n",
    "    training_data: Path\n",
    "    all_params: dict\n",
    "    mlflow_uri: str\n",
    "    params_image_size: list\n",
    "    params_batch_size: int"
   ]
  },
  {
   "cell_type": "code",
   "execution_count": 5,
   "id": "bf7b9d4a",
   "metadata": {},
   "outputs": [],
   "source": [
    "# Configuration manager\n",
    "from chestCancerClassifier.constants import *\n",
    "from chestCancerClassifier.utils.common import read_yaml, create_directories, save_json\n",
    "\n",
    "class ConfigurationManager:\n",
    "    def __init__(\n",
    "        self,\n",
    "        config_filepath = CONFIG_FILE_PATH,\n",
    "        params_filepath = PARAMS_FILE_PATH):\n",
    "        self.config = read_yaml(config_filepath)\n",
    "        self.params = read_yaml(params_filepath)\n",
    "        create_directories([self.config.artifacts_root])\n",
    "\n",
    "\n",
    "    def get_evaluation_config(self) -> EvaluationConfig:\n",
    "        eval_config = EvaluationConfig(\n",
    "            path_of_model=\"artifacts/training/model.pt\",\n",
    "            training_data=\"artifacts/data_ingestion/Chest-CT-Scan\",\n",
    "            mlflow_uri=\"https://dagshub.com/sazuyakun/chest-cancer-classifier.mlflow/\",\n",
    "            all_params=self.params,\n",
    "            params_image_size=self.params.IMAGE_SIZE,\n",
    "            params_batch_size=self.params.BATCH_SIZE\n",
    "        )\n",
    "        return eval_config"
   ]
  },
  {
   "cell_type": "code",
   "execution_count": 14,
   "id": "5271364f",
   "metadata": {},
   "outputs": [],
   "source": [
    "# Components\n",
    "\n",
    "import mlflow.pytorch\n",
    "import torch\n",
    "import torch.nn as nn\n",
    "from torch.utils.data import DataLoader, random_split\n",
    "from torchvision import datasets, transforms\n",
    "from tqdm import tqdm\n",
    "import mlflow\n",
    "import mlflow.pytorch\n",
    "from pathlib import Path\n",
    "from urllib.parse import urlparse\n",
    "import json\n",
    "\n",
    "\n",
    "class Evaluation:\n",
    "    def __init__(self, config: EvaluationConfig):\n",
    "        self.config = config\n",
    "\n",
    "        if torch.backends.mps.is_available():\n",
    "            self.device = torch.device(\"mps\")\n",
    "        elif torch.cuda.is_available():\n",
    "            self.device = torch.device(\"cuda\")\n",
    "        else:\n",
    "            self.device = torch.device(\"cpu\")\n",
    "\n",
    "    def _valid_loader(self):\n",
    "        image_size = self.config.params_image_size[:-1]  # (H, W)\n",
    "        mean = [0.485, 0.456, 0.406]\n",
    "        std = [0.229, 0.224, 0.225]\n",
    "\n",
    "        valid_transform = transforms.Compose([\n",
    "            transforms.Resize(image_size),\n",
    "            transforms.ToTensor(),\n",
    "            transforms.Normalize(mean, std)\n",
    "        ])\n",
    "\n",
    "        full_dataset = datasets.ImageFolder(root=self.config.training_data)\n",
    "        val_size = int(0.3 * len(full_dataset))\n",
    "        train_size = len(full_dataset) - val_size\n",
    "\n",
    "        _, self.valid_dataset = random_split(full_dataset, [train_size, val_size])\n",
    "        self.valid_dataset.dataset.transform = valid_transform\n",
    "\n",
    "        self.valid_loader = DataLoader(self.valid_dataset, batch_size=self.config.params_batch_size, shuffle=False)\n",
    "\n",
    "    @staticmethod\n",
    "    def load_model(path: Path):\n",
    "        model = torch.load(path, map_location=torch.device(\"cpu\"), weights_only=False)\n",
    "        return model\n",
    "\n",
    "    def evaluation(self):\n",
    "        self.model = self.load_model(self.config.path_of_model)\n",
    "        self.model.to(self.device)\n",
    "        self.model.eval()\n",
    "\n",
    "        self._valid_loader()\n",
    "        criterion = nn.CrossEntropyLoss()\n",
    "\n",
    "        total_loss = 0.0\n",
    "        total_correct = 0\n",
    "        total_samples = 0\n",
    "\n",
    "        with torch.no_grad():\n",
    "            for inputs, labels in tqdm(self.valid_loader):\n",
    "                inputs = inputs.to(self.device)\n",
    "                labels = labels.to(self.device)\n",
    "\n",
    "                outputs = self.model(inputs)\n",
    "                loss = criterion(outputs, labels)\n",
    "                _, preds = torch.max(outputs, 1)\n",
    "\n",
    "                total_loss += loss.item() * inputs.size(0)\n",
    "                total_correct += torch.sum(preds == labels).item()\n",
    "                total_samples += inputs.size(0)\n",
    "\n",
    "        avg_loss = total_loss / total_samples\n",
    "        accuracy = total_correct / total_samples\n",
    "        self.score = (avg_loss, accuracy)\n",
    "        print(f\"Validation Loss: {avg_loss:.4f}, Accuracy: {accuracy:.4f}\")\n",
    "\n",
    "        self.save_score()\n",
    "\n",
    "    def save_score(self):\n",
    "        scores = {\"loss\": self.score[0], \"accuracy\": self.score[1]}\n",
    "        with open(\"scores.json\", \"w\") as f:\n",
    "            json.dump(scores, f, indent=4)\n",
    "\n",
    "    def log_into_mlflow(self):\n",
    "        mlflow.set_registry_uri(self.config.mlflow_uri)\n",
    "        tracking_url_type_store = urlparse(self.config.mlflow_uri).scheme\n",
    "\n",
    "        with mlflow.start_run():\n",
    "            mlflow.log_param(\n",
    "                key=\"params\",\n",
    "                value=self.config.all_params\n",
    "            )\n",
    "            mlflow.log_metrics(\n",
    "                {\n",
    "                    \"loss\": self.score[0],\n",
    "                    \"accuracy\": self.score[1]\n",
    "                }\n",
    "            )\n",
    "\n",
    "            mlflow.pytorch.autolog()"
   ]
  },
  {
   "cell_type": "code",
   "execution_count": 15,
   "id": "3fa078a5",
   "metadata": {},
   "outputs": [
    {
     "name": "stdout",
     "output_type": "stream",
     "text": [
      "[2025-06-25 03:01:06,442: INFO: _client: HTTP Request: GET https://dagshub.com/api/v1/repos/sazuyakun/chest-cancer-classifier \"HTTP/1.1 200 OK\"]\n"
     ]
    },
    {
     "data": {
      "text/html": [
       "<pre style=\"white-space:pre;overflow-x:auto;line-height:normal;font-family:Menlo,'DejaVu Sans Mono',consolas,'Courier New',monospace\">Initialized MLflow to track repo <span style=\"color: #008000; text-decoration-color: #008000\">\"sazuyakun/chest-cancer-classifier\"</span>\n",
       "</pre>\n"
      ],
      "text/plain": [
       "Initialized MLflow to track repo \u001b[32m\"sazuyakun/chest-cancer-classifier\"\u001b[0m\n"
      ]
     },
     "metadata": {},
     "output_type": "display_data"
    },
    {
     "name": "stdout",
     "output_type": "stream",
     "text": [
      "[2025-06-25 03:01:06,445: INFO: helpers: Initialized MLflow to track repo \"sazuyakun/chest-cancer-classifier\"]\n"
     ]
    },
    {
     "data": {
      "text/html": [
       "<pre style=\"white-space:pre;overflow-x:auto;line-height:normal;font-family:Menlo,'DejaVu Sans Mono',consolas,'Courier New',monospace\">Repository sazuyakun/chest-cancer-classifier initialized!\n",
       "</pre>\n"
      ],
      "text/plain": [
       "Repository sazuyakun/chest-cancer-classifier initialized!\n"
      ]
     },
     "metadata": {},
     "output_type": "display_data"
    },
    {
     "name": "stdout",
     "output_type": "stream",
     "text": [
      "[2025-06-25 03:01:06,446: INFO: helpers: Repository sazuyakun/chest-cancer-classifier initialized!]\n",
      "[2025-06-25 03:01:06,447: INFO: common: yaml file: config/config.yaml loaded successfully]\n",
      "[2025-06-25 03:01:06,448: INFO: common: yaml file: params.yaml loaded successfully]\n",
      "[2025-06-25 03:01:06,449: INFO: common: created directory at: artifacts]\n"
     ]
    },
    {
     "name": "stderr",
     "output_type": "stream",
     "text": [
      "100%|██████████| 7/7 [00:02<00:00,  3.01it/s]\n"
     ]
    },
    {
     "name": "stdout",
     "output_type": "stream",
     "text": [
      "Validation Loss: 0.3332, Accuracy: 0.9804\n",
      "🏃 View run adaptable-ape-272 at: https://dagshub.com/sazuyakun/chest-cancer-classifier.mlflow/#/experiments/0/runs/c58fbd2793434443a41c6a9ed6e2c642\n",
      "🧪 View experiment at: https://dagshub.com/sazuyakun/chest-cancer-classifier.mlflow/#/experiments/0\n"
     ]
    }
   ],
   "source": [
    "import dagshub\n",
    "dagshub.init(repo_owner='sazuyakun', repo_name='chest-cancer-classifier', mlflow=True)\n",
    "\n",
    "try:\n",
    "    config = ConfigurationManager()\n",
    "    eval_config = config.get_evaluation_config()\n",
    "    evaluation = Evaluation(eval_config)\n",
    "    evaluation.evaluation()\n",
    "    evaluation.log_into_mlflow()\n",
    "\n",
    "except Exception as e:\n",
    "   raise e"
   ]
  },
  {
   "cell_type": "code",
   "execution_count": null,
   "id": "c5f56c72",
   "metadata": {},
   "outputs": [],
   "source": []
  }
 ],
 "metadata": {
  "kernelspec": {
   "display_name": "Python 3",
   "language": "python",
   "name": "python3"
  },
  "language_info": {
   "codemirror_mode": {
    "name": "ipython",
    "version": 3
   },
   "file_extension": ".py",
   "mimetype": "text/x-python",
   "name": "python",
   "nbconvert_exporter": "python",
   "pygments_lexer": "ipython3",
   "version": "3.13.5"
  }
 },
 "nbformat": 4,
 "nbformat_minor": 5
}
