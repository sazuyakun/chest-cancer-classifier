{
 "cells": [
  {
   "cell_type": "code",
   "execution_count": 1,
   "id": "6d2f18c8",
   "metadata": {},
   "outputs": [],
   "source": [
    "d = {\"key1\": \"value1\", \"key2\": \"value2\"}"
   ]
  },
  {
   "cell_type": "code",
   "execution_count": 2,
   "id": "75146dd4",
   "metadata": {},
   "outputs": [],
   "source": [
    "from box import ConfigBox\n",
    "\n",
    "d = ConfigBox(d)"
   ]
  },
  {
   "cell_type": "code",
   "execution_count": 3,
   "id": "03f13018",
   "metadata": {},
   "outputs": [
    {
     "data": {
      "text/plain": [
       "'value1'"
      ]
     },
     "execution_count": 3,
     "metadata": {},
     "output_type": "execute_result"
    }
   ],
   "source": [
    "d.key1"
   ]
  },
  {
   "cell_type": "markdown",
   "id": "a719b4be",
   "metadata": {},
   "source": [
    "### Testing Drive Data"
   ]
  },
  {
   "cell_type": "code",
   "execution_count": 1,
   "id": "46efd735",
   "metadata": {},
   "outputs": [
    {
     "name": "stderr",
     "output_type": "stream",
     "text": [
      "Downloading...\n",
      "From (original): https://drive.google.com/uc?/export=download&id=1-VK4ODCVtuJcWDviMEohAVFI9JuSQCP9\n",
      "From (redirected): https://drive.google.com/uc?%2Fexport=download&id=1-VK4ODCVtuJcWDviMEohAVFI9JuSQCP9&confirm=t&uuid=2319438b-6e79-4b08-b725-75c95a07bce7\n",
      "To: /Users/sohamsamal/Desktop/Coding/Learn/MLOPs/chest-cancer-classifier/research/data.zip\n",
      "100%|██████████| 124M/124M [00:11<00:00, 11.0MB/s] \n"
     ]
    },
    {
     "data": {
      "text/plain": [
       "'data.zip'"
      ]
     },
     "execution_count": 1,
     "metadata": {},
     "output_type": "execute_result"
    }
   ],
   "source": [
    "import gdown\n",
    "\n",
    "url = \"https://drive.google.com/file/d/1-VK4ODCVtuJcWDviMEohAVFI9JuSQCP9/view?usp=drive_link\"\n",
    "file_id = url.split(\"/\")[-2]\n",
    "prefix = \"https://drive.google.com/uc?/export=download&id=\"\n",
    "\n",
    "gdown.download(f\"{prefix}{file_id}\", \"data.zip\", quiet=False)"
   ]
  },
  {
   "cell_type": "code",
   "execution_count": null,
   "id": "f9ca3fde",
   "metadata": {},
   "outputs": [],
   "source": []
  }
 ],
 "metadata": {
  "kernelspec": {
   "display_name": "Python 3",
   "language": "python",
   "name": "python3"
  },
  "language_info": {
   "codemirror_mode": {
    "name": "ipython",
    "version": 3
   },
   "file_extension": ".py",
   "mimetype": "text/x-python",
   "name": "python",
   "nbconvert_exporter": "python",
   "pygments_lexer": "ipython3",
   "version": "3.13.5"
  }
 },
 "nbformat": 4,
 "nbformat_minor": 5
}
